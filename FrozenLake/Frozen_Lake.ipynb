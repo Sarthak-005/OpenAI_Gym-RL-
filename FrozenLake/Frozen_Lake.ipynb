{
 "cells": [
  {
   "cell_type": "code",
   "execution_count": 1,
   "id": "5723bc99",
   "metadata": {
    "collapsed": true
   },
   "outputs": [
    {
     "name": "stderr",
     "output_type": "stream",
     "text": [
      "\n"
     ]
    }
   ],
   "source": [
    "import numpy as np\n",
    "import gym\n",
    "import random\n",
    "import time\n",
    "from IPython.display import clear_output"
   ]
  },
  {
   "cell_type": "code",
   "execution_count": 3,
   "id": "a6a042b1",
   "metadata": {},
   "outputs": [],
   "source": [
    "env = gym.make(\"FrozenLake-v1\")"
   ]
  },
  {
   "cell_type": "code",
   "execution_count": 4,
   "id": "f4810eaa",
   "metadata": {},
   "outputs": [
    {
     "name": "stdout",
     "output_type": "stream",
     "text": [
      "[[0. 0. 0. 0.]\n",
      " [0. 0. 0. 0.]\n",
      " [0. 0. 0. 0.]\n",
      " [0. 0. 0. 0.]\n",
      " [0. 0. 0. 0.]\n",
      " [0. 0. 0. 0.]\n",
      " [0. 0. 0. 0.]\n",
      " [0. 0. 0. 0.]\n",
      " [0. 0. 0. 0.]\n",
      " [0. 0. 0. 0.]\n",
      " [0. 0. 0. 0.]\n",
      " [0. 0. 0. 0.]\n",
      " [0. 0. 0. 0.]\n",
      " [0. 0. 0. 0.]\n",
      " [0. 0. 0. 0.]\n",
      " [0. 0. 0. 0.]]\n"
     ]
    }
   ],
   "source": [
    "action_space = env.action_space.n\n",
    "state_space = env.observation_space.n\n",
    "q_table = np.zeros((state_space,action_space))\n",
    "print(q_table)"
   ]
  },
  {
   "cell_type": "code",
   "execution_count": 21,
   "id": "91b6bca2",
   "metadata": {},
   "outputs": [],
   "source": [
    "num_episodes = 10000\n",
    "max_steps_ep = 100\n",
    "\n",
    "lr = 0.1\n",
    "dr = 0.99\n",
    "\n",
    "expr_rate = 1\n",
    "max_expr_rate = 1\n",
    "min_expr_rate = 0.01\n",
    "expr_decay_rate = 0.01"
   ]
  },
  {
   "cell_type": "code",
   "execution_count": 22,
   "id": "104f59cb",
   "metadata": {},
   "outputs": [
    {
     "name": "stdout",
     "output_type": "stream",
     "text": [
      "0  processing\n",
      "1000  processing\n",
      "2000  processing\n",
      "3000  processing\n",
      "4000  processing\n",
      "5000  processing\n",
      "6000  processing\n",
      "7000  processing\n",
      "8000  processing\n",
      "9000  processing\n",
      "Avg reward per thousand eps\n",
      "\n",
      "1000 :  0.5250000000000004\n",
      "2000 :  0.6970000000000005\n",
      "3000 :  0.6780000000000005\n",
      "4000 :  0.6810000000000005\n",
      "5000 :  0.6630000000000005\n",
      "6000 :  0.7060000000000005\n",
      "7000 :  0.6890000000000005\n",
      "8000 :  0.6960000000000005\n",
      "9000 :  0.6920000000000005\n",
      "10000 :  0.6400000000000005\n",
      "\n",
      "\n",
      " Q-Table\n",
      "\n",
      "[[0.49997932 0.45967431 0.4585543  0.4607047 ]\n",
      " [0.34766867 0.28931927 0.36644161 0.4533188 ]\n",
      " [0.38790515 0.3694081  0.40475457 0.42428988]\n",
      " [0.22450105 0.26038383 0.2541063  0.40790761]\n",
      " [0.51793039 0.2533722  0.34458947 0.40970935]\n",
      " [0.         0.         0.         0.        ]\n",
      " [0.19654992 0.11770266 0.28122684 0.17893268]\n",
      " [0.         0.         0.         0.        ]\n",
      " [0.43992707 0.29972534 0.40163498 0.55979618]\n",
      " [0.48819983 0.63189999 0.37806951 0.32704301]\n",
      " [0.6384719  0.32605741 0.32550694 0.30757798]\n",
      " [0.         0.         0.         0.        ]\n",
      " [0.         0.         0.         0.        ]\n",
      " [0.41478902 0.55710142 0.71670155 0.53628234]\n",
      " [0.70356039 0.87946401 0.70173683 0.70431012]\n",
      " [0.         0.         0.         0.        ]]\n"
     ]
    }
   ],
   "source": [
    "all_rewards = []\n",
    "for episode in range(num_episodes):\n",
    "    if episode%1000 == 0:\n",
    "        print(episode,\" processing\")\n",
    "    state = env.reset()\n",
    "    done = False\n",
    "    rewards_curr = 0\n",
    "    for step in range(max_steps_ep):\n",
    "        expr_thresh = random.uniform(0,1)\n",
    "        if expr_thresh > expr_rate:\n",
    "            action = np.argmax(q_table[state,:])\n",
    "        else:\n",
    "            action = env.action_space.sample()\n",
    "        new_state, reward, done, info = env.step(action)\n",
    "        #update Q-table\n",
    "        q_table[state,action] = q_table[state,action]*(1 - lr) + \\\n",
    "        lr*(reward + dr*np.max(q_table[new_state,:]))\n",
    "        \n",
    "        state = new_state\n",
    "        rewards_curr += reward\n",
    "        if done == True:\n",
    "            break\n",
    "    expr_rate = min_expr_rate + (max_expr_rate - min_expr_rate)* \\\n",
    "    np.exp(-expr_decay_rate*episode)\n",
    "    all_rewards.append(rewards_curr)\n",
    "rewards_per_thousand = np.split(np.array(all_rewards), num_episodes/1000)\n",
    "count = 1000\n",
    "print(\"Avg reward per thousand eps\\n\")\n",
    "for r in rewards_per_thousand:\n",
    "    print(count, \": \",str(sum(r/1000)))\n",
    "    count += 1000\n",
    "print(\"\\n\\n Q-Table\\n\")\n",
    "print(q_table)"
   ]
  },
  {
   "cell_type": "code",
   "execution_count": null,
   "id": "e40caaf5",
   "metadata": {},
   "outputs": [],
   "source": []
  }
 ],
 "metadata": {
  "kernelspec": {
   "display_name": "main",
   "language": "python",
   "name": "main"
  },
  "language_info": {
   "codemirror_mode": {
    "name": "ipython",
    "version": 3
   },
   "file_extension": ".py",
   "mimetype": "text/x-python",
   "name": "python",
   "nbconvert_exporter": "python",
   "pygments_lexer": "ipython3",
   "version": "3.9.7"
  }
 },
 "nbformat": 4,
 "nbformat_minor": 5
}
